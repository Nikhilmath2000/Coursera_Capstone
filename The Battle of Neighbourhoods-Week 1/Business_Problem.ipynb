{
 "cells": [
  {
   "cell_type": "markdown",
   "metadata": {
    "colab_type": "text",
    "id": "TKc70lGav_zY"
   },
   "source": [
    "# Capstone Project — The Battle of Neighbourhoods"
   ]
  },
  {
   "cell_type": "markdown",
   "metadata": {
    "colab_type": "text",
    "id": "dlJiXemYv_zc"
   },
   "source": [
    "### Introduction\n",
    "<p>New Delhi is the capital city of India. It is a part of the city of Delhi’s 11 districts. The city itself has a population of 257,803. However, the much larger metro area has a population that exceeds 26 million.</p>\n",
    " <p>New Delhi are used interchangeably to refer to the National Capital Territory of Delhi (NCT), these are two distinct entities, with New Delhi forming a small part of Delhi. The National Capital Region is a much larger entity comprising the entire NCT along with adjoining districts in neighboring states.</p> \n",
    "    <p>The official language of New Delhi and the one that is most widely spoken is Hindi. However, English is also spoken as a formal language within businesses and government agencies.\n",
    "    Over last decades it is continuously grow because of the city’s important role in government and commercial business.\n",
    "    \n",
    "</p>\n",
    "With it’s diverse culture , comes diverse food items. There are many restaurants in New Delhi City, each belonging to different categories like Chinese , Italian , French etc.\n",
    "\n",
    "So as part of this project , we will list and visualise all major parts of New Delhi City .\n",
    "   </p>"
   ]
  },
  {
   "cell_type": "markdown",
   "metadata": {
    "colab_type": "text",
    "id": "CsGNuYelv_zd"
   },
   "source": [
    " ### Questions that can be asked using the above mentioned datasets\n",
    "- What is best location in New Delhi City for Chinese Cuisine ? \n",
    "- Which areas have large number of Chinese Resturant Market ? \n",
    "- Which all areas have less number of resturant ?\n",
    "- Which is the best place to stay if I prefer Chinese Cuisine ?\n",
    "- What places are have best restaurant in New Delhi?"
   ]
  }
 ],
 "metadata": {
  "colab": {
   "name": "Capstone Project — The Battle of Neighbourhoods.ipynb",
   "provenance": []
  },
  "kernelspec": {
   "display_name": "Python 3",
   "language": "python",
   "name": "python3"
  },
  "language_info": {
   "codemirror_mode": {
    "name": "ipython",
    "version": 3
   },
   "file_extension": ".py",
   "mimetype": "text/x-python",
   "name": "python",
   "nbconvert_exporter": "python",
   "pygments_lexer": "ipython3",
   "version": "3.8.8"
  }
 },
 "nbformat": 4,
 "nbformat_minor": 1
}
