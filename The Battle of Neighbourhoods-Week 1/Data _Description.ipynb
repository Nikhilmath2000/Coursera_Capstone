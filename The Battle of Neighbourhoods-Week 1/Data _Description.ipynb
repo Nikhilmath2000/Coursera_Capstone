{
 "cells": [
  {
   "cell_type": "markdown",
   "metadata": {
    "colab_type": "text",
    "id": "TKc70lGav_zY"
   },
   "source": [
    "# The Battle of Neighbourhoods | Data Description"
   ]
  },
  {
   "cell_type": "markdown",
   "metadata": {
    "colab_type": "text",
    "id": "QD48llT0v_ze"
   },
   "source": [
    "## Data\n",
    "For this project we need the following data :\n",
    "<ul>\n",
    "<li> New Delhi Resturants data that contains list Locality, Resturant name,Rating along with their latitude and longitude.\n",
    "    <ul>\n",
    "        <li>Data source : <a href=\"https://www.kaggle.com/shrutimehta/zomato-restaurants-data\">Zomato kaggel dataset</a>\n",
    " <li> Description : This data set contains the required information. And we will use this data set to explore various locality of new delhi city.\n",
    "     </ul>\n",
    "<li> Nearby places in each locality of new delhi city.\n",
    "        <ul>\n",
    "            <li>Data source : <a href=\"https://developer.foursquare.com/\"> Fousquare API </a>\n",
    "        <li> Description : By using this api we will get all the venues in each neighborhood. \n",
    "    "
   ]
  },
  {
   "cell_type": "markdown",
   "metadata": {
    "colab_type": "text",
    "id": "_ljEzrghv_zf"
   },
   "source": [
    "### Approach\n",
    "- Collect the new delhi city data from <a href=\"https://www.kaggle.com/shrutimehta/zomato-restaurants-data\">Zomato kaggel dataset</a>\n",
    "- Using FourSquare API we will find all venues for each neighborhood.\n",
    "- Filter out all venues that are nearby by locality.\n",
    "- Using aggregative rating for each resturant to find the best places.\n",
    "- Visualize the Ranking of neighborhoods using folium library(python)"
   ]
  }
 ],
 "metadata": {
  "colab": {
   "name": "Capstone Project — The Battle of Neighbourhoods.ipynb",
   "provenance": []
  },
  "kernelspec": {
   "display_name": "Python 3",
   "language": "python",
   "name": "python3"
  },
  "language_info": {
   "codemirror_mode": {
    "name": "ipython",
    "version": 3
   },
   "file_extension": ".py",
   "mimetype": "text/x-python",
   "name": "python",
   "nbconvert_exporter": "python",
   "pygments_lexer": "ipython3",
   "version": "3.8.8"
  }
 },
 "nbformat": 4,
 "nbformat_minor": 1
}
